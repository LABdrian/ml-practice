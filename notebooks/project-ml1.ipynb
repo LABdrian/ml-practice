{
 "cells": [
  {
   "cell_type": "code",
   "execution_count": 10,
   "id": "0b2fefe6-fa66-4716-a7b6-10e1cf2fcd24",
   "metadata": {
    "tags": []
   },
   "outputs": [],
   "source": [
    "import string\n",
    "\n",
    "import numpy as np\n",
    "import pandas as pd\n",
    "import seaborn as sns\n",
    "import matplotlib.pyplot as plt\n",
    "import nltk\n",
    "from nltk.corpus import stopwords\n",
    "from unidecode import unidecode"
   ]
  },
  {
   "cell_type": "code",
   "execution_count": 13,
   "id": "4c864aaf-8506-4715-8fb5-0d79a22d6c60",
   "metadata": {
    "tags": []
   },
   "outputs": [
    {
     "name": "stderr",
     "output_type": "stream",
     "text": [
      "[nltk_data] Downloading package stopwords to C:\\Users\\German\n",
      "[nltk_data]     Castro\\AppData\\Roaming\\nltk_data...\n",
      "[nltk_data]   Package stopwords is already up-to-date!\n"
     ]
    },
    {
     "data": {
      "text/plain": [
       "True"
      ]
     },
     "execution_count": 13,
     "metadata": {},
     "output_type": "execute_result"
    }
   ],
   "source": [
    "nltk.download('stopwords')"
   ]
  },
  {
   "cell_type": "code",
   "execution_count": 14,
   "id": "0308d862-1fee-4419-9288-1aba499172ec",
   "metadata": {
    "tags": []
   },
   "outputs": [
    {
     "data": {
      "text/html": [
       "<div>\n",
       "<style scoped>\n",
       "    .dataframe tbody tr th:only-of-type {\n",
       "        vertical-align: middle;\n",
       "    }\n",
       "\n",
       "    .dataframe tbody tr th {\n",
       "        vertical-align: top;\n",
       "    }\n",
       "\n",
       "    .dataframe thead th {\n",
       "        text-align: right;\n",
       "    }\n",
       "</style>\n",
       "<table border=\"1\" class=\"dataframe\">\n",
       "  <thead>\n",
       "    <tr style=\"text-align: right;\">\n",
       "      <th></th>\n",
       "      <th>speaker</th>\n",
       "      <th>dialog</th>\n",
       "      <th>length</th>\n",
       "    </tr>\n",
       "  </thead>\n",
       "  <tbody>\n",
       "    <tr>\n",
       "      <th>0</th>\n",
       "      <td>politico</td>\n",
       "      <td>Amigas, amigos, paisanas, paisanos de Palenque:</td>\n",
       "      <td>47</td>\n",
       "    </tr>\n",
       "    <tr>\n",
       "      <th>1</th>\n",
       "      <td>politico</td>\n",
       "      <td>Me da mucho gusto estar de nuevo en trabajos d...</td>\n",
       "      <td>91</td>\n",
       "    </tr>\n",
       "    <tr>\n",
       "      <th>2</th>\n",
       "      <td>politico</td>\n",
       "      <td>Antes de entrar en materia, quiero enviar un s...</td>\n",
       "      <td>471</td>\n",
       "    </tr>\n",
       "    <tr>\n",
       "      <th>3</th>\n",
       "      <td>politico</td>\n",
       "      <td>Di la instrucción de que se mantengan trabajan...</td>\n",
       "      <td>338</td>\n",
       "    </tr>\n",
       "    <tr>\n",
       "      <th>4</th>\n",
       "      <td>politico</td>\n",
       "      <td>Quiero decirles a mis paisanos que padecen, qu...</td>\n",
       "      <td>113</td>\n",
       "    </tr>\n",
       "    <tr>\n",
       "      <th>...</th>\n",
       "      <td>...</td>\n",
       "      <td>...</td>\n",
       "      <td>...</td>\n",
       "    </tr>\n",
       "    <tr>\n",
       "      <th>155502</th>\n",
       "      <td>politico</td>\n",
       "      <td>¡Que viva Francisco I. Madero!</td>\n",
       "      <td>30</td>\n",
       "    </tr>\n",
       "    <tr>\n",
       "      <th>155503</th>\n",
       "      <td>politico</td>\n",
       "      <td>¡Que viva Venustiano Carranza!</td>\n",
       "      <td>30</td>\n",
       "    </tr>\n",
       "    <tr>\n",
       "      <th>155504</th>\n",
       "      <td>politico</td>\n",
       "      <td>¡Viva México!</td>\n",
       "      <td>13</td>\n",
       "    </tr>\n",
       "    <tr>\n",
       "      <th>155505</th>\n",
       "      <td>politico</td>\n",
       "      <td>¡Viva México!</td>\n",
       "      <td>13</td>\n",
       "    </tr>\n",
       "    <tr>\n",
       "      <th>155506</th>\n",
       "      <td>politico</td>\n",
       "      <td>¡Viva México!</td>\n",
       "      <td>13</td>\n",
       "    </tr>\n",
       "  </tbody>\n",
       "</table>\n",
       "<p>155507 rows × 3 columns</p>\n",
       "</div>"
      ],
      "text/plain": [
       "         speaker                                             dialog  length\n",
       "0       politico    Amigas, amigos, paisanas, paisanos de Palenque:      47\n",
       "1       politico  Me da mucho gusto estar de nuevo en trabajos d...      91\n",
       "2       politico  Antes de entrar en materia, quiero enviar un s...     471\n",
       "3       politico  Di la instrucción de que se mantengan trabajan...     338\n",
       "4       politico  Quiero decirles a mis paisanos que padecen, qu...     113\n",
       "...          ...                                                ...     ...\n",
       "155502  politico                     ¡Que viva Francisco I. Madero!      30\n",
       "155503  politico                     ¡Que viva Venustiano Carranza!      30\n",
       "155504  politico                                      ¡Viva México!      13\n",
       "155505  politico                                      ¡Viva México!      13\n",
       "155506  politico                                      ¡Viva México!      13\n",
       "\n",
       "[155507 rows x 3 columns]"
      ]
     },
     "execution_count": 14,
     "metadata": {},
     "output_type": "execute_result"
    }
   ],
   "source": [
    "dialogs = pd.read_csv(r\"C:\\Users\\German Castro\\ml-repo\\data\\dialogos.csv\",index_col=0)\n",
    "dialogs['speaker'] = np.where(dialogs['speaker']=='amlo', 'politico','medico')\n",
    "dialogs"
   ]
  },
  {
   "cell_type": "markdown",
   "id": "2556d9fb-2f68-49c0-a9fd-85ceba7c0915",
   "metadata": {
    "tags": []
   },
   "source": [
    "## buscar desarrollar una clasificacion binary que vamos a tratar de identificar entre dos valores\n",
    "\n",
    "## metrica de eleccion: Accuracy"
   ]
  },
  {
   "cell_type": "markdown",
   "id": "a751672f-d5b3-45e7-87de-bed1ed1412fc",
   "metadata": {
    "tags": []
   },
   "source": [
    "# distribucion de las etiquetas"
   ]
  },
  {
   "cell_type": "code",
   "execution_count": 15,
   "id": "c9686bec-1dd3-48b7-801e-b3942def5e31",
   "metadata": {},
   "outputs": [
    {
     "data": {
      "image/png": "[encoded data removed]",
      "text/plain": [
       "<Figure size 640x480 with 1 Axes>"
      ]
     },
     "metadata": {},
     "output_type": "display_data"
    }
   ],
   "source": [
    "fig = plt.figure(dpi=100)\n",
    "ax = fig.gca()\n",
    "sns.countplot(x='speaker', data=dialogs, ax=ax)\n",
    "ax.set_title(\"Etiquetas\")\n",
    "ax.set_xlabel(\"Speaker\")\n",
    "ax.set_ylabel(\"Cuenta\")\n",
    "\n",
    "percentages = (dialogs[\"speaker\"].value_counts() / len(dialogs)).to_dict()\n",
    "xs = {label.get_text():idx for idx, label in enumerate(ax.get_xticklabels())}\n",
    "for label, pct in percentages.items():\n",
    "#    x = labels[label].get_x()\n",
    "    ax.text(xs[label],9000, f\"{pct:0.2%}\", ha='center', fontsize=\"xx-large\", c=\"white\")\n",
    "    pass"
   ]
  },
  {
   "cell_type": "markdown",
   "id": "4d2678a5-abd2-47c8-80fd-1bee2411fe1b",
   "metadata": {},
   "source": [
    "# longitud del texto "
   ]
  },
  {
   "cell_type": "code",
   "execution_count": 18,
   "id": "726515d1-79a8-448a-80b0-b0276f2f3f73",
   "metadata": {
    "tags": []
   },
   "outputs": [],
   "source": [
    "lengths = dialogs[\"dialog\"].str.len()\n",
    "\n",
    "dialog_lenghts = pd.DataFrame({\n",
    "    \"speaker\": dialogs[\"speaker\"],\n",
    "    \"length\": lengths\n",
    "})"
   ]
  },
  {
   "cell_type": "code",
   "execution_count": 19,
   "id": "38aa5607-e0a8-45aa-a42d-bbed9db43236",
   "metadata": {
    "tags": []
   },
   "outputs": [
    {
     "data": {
      "text/plain": [
       "<Axes: xlabel='length', ylabel='speaker'>"
      ]
     },
     "execution_count": 19,
     "metadata": {},
     "output_type": "execute_result"
    },
    {
     "data": {
      "image/png": "[encoded data removed]",
      "text/plain": [
       "<Figure size 1000x500 with 2 Axes>"
      ]
     },
     "metadata": {},
     "output_type": "display_data"
    }
   ],
   "source": [
    "fig, (ax1, ax2) = plt.subplots(2, 1, dpi=100, figsize=(10,5))\n",
    "\n",
    "sns.violinplot(y=\"speaker\" , x=\"length\", data=dialog_lenghts, ax=ax1)\n",
    "sns.boxplot(y=\"speaker\" , x=\"length\", data=dialog_lenghts, ax=ax2)"
   ]
  },
  {
   "cell_type": "code",
   "execution_count": 20,
   "id": "38b7d1f3-1b24-4f43-99e0-1e9da1a7122a",
   "metadata": {
    "tags": []
   },
   "outputs": [
    {
     "data": {
      "text/plain": [
       "<matplotlib.legend.Legend at 0x16305803150>"
      ]
     },
     "execution_count": 20,
     "metadata": {},
     "output_type": "execute_result"
    },
    {
     "data": {
      "image/png": "[encoded data removed]",
      "text/plain": [
       "<Figure size 1200x300 with 1 Axes>"
      ]
     },
     "metadata": {},
     "output_type": "display_data"
    }
   ],
   "source": [
    "fig = plt.figure(dpi=100, figsize=(12, 3))\n",
    "ax = fig.gca()\n",
    "\n",
    "\n",
    "for label, color in [(\"politico\", \"green\"), (\"medico\", \"red\")]:\n",
    "    lengths = dialog_lenghts[dialog_lenghts[\"speaker\"] == label]\n",
    "    values, bins = np.histogram(lengths[\"length\"], range=(0, 1200), bins=50)\n",
    "    y = (bins[1:] + bins[:-1]) / 2\n",
    "    sns.barplot(x=y, y=values/ len(lengths), label=label, color= color, ax=ax, alpha=0.5 )\n",
    "ax.set_xticklabels([f\"{int(_y)}-{int(_x)}\" for _x,_y in zip(bins[1:], bins[:-1])], rotation=90, fontsize=9)\n",
    "ax.set_yticklabels([])\n",
    "ax.set_xlabel(\"Rango\")\n",
    "ax.legend()"
   ]
  },
  {
   "cell_type": "markdown",
   "id": "b79cf734-9d9a-4ac7-a328-531bd905f753",
   "metadata": {},
   "source": [
    "# para dividir el dataset "
   ]
  },
  {
   "cell_type": "code",
   "execution_count": 21,
   "id": "fa76dd34-4e9c-4816-943c-1bf4f53134c8",
   "metadata": {
    "tags": []
   },
   "outputs": [],
   "source": [
    "from sklearn.model_selection import train_test_split"
   ]
  },
  {
   "cell_type": "code",
   "execution_count": 22,
   "id": "1e6b6e9e-48ed-4510-a685-cedf9656c545",
   "metadata": {
    "tags": []
   },
   "outputs": [
    {
     "data": {
      "text/plain": [
       "(99524, 24881, 31102)"
      ]
     },
     "execution_count": 22,
     "metadata": {},
     "output_type": "execute_result"
    }
   ],
   "source": [
    "rest, test = train_test_split(dialogs, test_size=0.2, stratify=dialogs[\"speaker\"])\n",
    "train, val = train_test_split(rest, test_size=0.2, stratify=rest[\"speaker\"])\n",
    "len(train), len(val), len(test)"
   ]
  },
  {
   "cell_type": "markdown",
   "id": "6aefa0e6-f452-414e-85b7-6775fa6a5a0e",
   "metadata": {},
   "source": [
    "# crear variables por segmentos  de la data "
   ]
  },
  {
   "cell_type": "code",
   "execution_count": 24,
   "id": "776ec3d3-d07c-4115-b1e2-ec49d23ff9fd",
   "metadata": {
    "tags": []
   },
   "outputs": [],
   "source": [
    "dialogs_train = train[\"dialog\"]\n",
    "dialogs_val = val[\"dialog\"]\n",
    "dialogs_test = test[\"dialog\"]\n",
    "\n",
    "target_train = train[\"speaker\"]\n",
    "target_val = val[\"speaker\"]\n",
    "target_test = test[\"speaker\"]"
   ]
  },
  {
   "cell_type": "markdown",
   "id": "2b771fda-1042-43f9-abe4-b8971296af35",
   "metadata": {},
   "source": [
    "## luego hay que realizar feature engineering (transformar datos tipo string o tipo texto en un modelo numerico) para que el pueda ser entendido por el modelo de ML"
   ]
  },
  {
   "cell_type": "markdown",
   "id": "3386a47b-2fc4-415a-9e9c-530e3b833469",
   "metadata": {},
   "source": [
    "### etiquetas"
   ]
  },
  {
   "cell_type": "code",
   "execution_count": 25,
   "id": "4bf118a5-b3fb-4344-b1d8-c10e4a4f53ce",
   "metadata": {
    "tags": []
   },
   "outputs": [],
   "source": [
    "train_y = np.where(target_train == \"politico\", 1, 0)\n",
    "val_y = np.where(target_val == \"politico\", 1, 0)\n",
    "test_y = np.where(target_test == \"politico\", 1, 0)"
   ]
  },
  {
   "cell_type": "code",
   "execution_count": 26,
   "id": "095a2bbf-3a88-421b-b52d-1aa779e2efcf",
   "metadata": {
    "tags": []
   },
   "outputs": [
    {
     "data": {
      "text/plain": [
       "array(['Es oportuno recordar que el año pasado México fue miembro del Consejo de Seguridad de Naciones Unidas con 187 votos a favor, la aprobación mayoritaria más alta de la historia.',\n",
       "       'Muchas gracias, subsecretaria Natalia Toledo; muchas gracias, Homero Fernández, director de la Unidad Cultural Los Pinos; gracias, doctor Alomía.',\n",
       "       'Esto, por ejemplo, se manifiesta cuando en una zona empieza a existir un brote de origen, otro brote de origen, y de repente hay una interconexión entre los propios brotes, en un municipio, en otro municipio y finalmente ya no se puede distinguir cuál es el municipio que aporta los casos porque existen personas que cambian de lugar a lo largo del día entre un sitio y otro, y están vinculadas por cadenas de transmisión.',\n",
       "       'Aquí lo importante es destacar que ofrecimos que íbamos a vacunar a los adultos mayores aun con una dosis y cumplimos instalando centros de vacunación en todos los municipios del país, hasta en los municipios más apartados, hasta allá se llegó con brigadas de vacunación. Y están todavía instalados estos centros y yo creo que poco a poco van a ir sumándose más adultos mayores.',\n",
       "       'Pero la instrucción, sólo que no se haya hecho caso, la instrucción es no entregar ninguna concesión minera, ni ampliación. Entonces, yo mañana te voy a decir sobre este caso, nada más le vas a dar…',\n",
       "       'Bueno vamos a…',\n",
       "       'Son cosas distintas, pero yo fui acusado injustamente porque no querían que mi nombre apareciera en la boleta de la elección del 2006, me fabricaron el delito, entonces, imagínese, yo no puedo a la ligera descalificar a nadie. Que la autoridad competente resuelva y que se apeguen a la justicia.',\n",
       "       'Bueno, en el caso de Veracruz yo creo que hay denuncias de los anteriores gobernadores, bueno, tan es así, que hay un gobernador en la cárcel, y también hay denuncias en contra del exgobernador reciente.',\n",
       "       'También recordar que la subasta es adquirir, como aquí se ha dicho, un bien para hacer el bien. Los que participan ayudan porque estos recursos van a causas nobles, a causas justas, y de esta forma se coopera, se ayuda, se participa.',\n",
       "       'Y ya estamos estableciendo comunicación con empresarios mineros, con dirigentes sindicales mineros, porque se va a establecer, se va a abrir una mesa de diálogo, vamos a invitar también ambientalistas para tratar todo el asunto que tiene que ver con la minería.'],\n",
       "      dtype=object)"
      ]
     },
     "execution_count": 26,
     "metadata": {},
     "output_type": "execute_result"
    }
   ],
   "source": [
    "dialogs_train.sample(10, random_state=132).values"
   ]
  },
  {
   "cell_type": "code",
   "execution_count": 27,
   "id": "84799148-6df6-462a-9dd7-139a166a153e",
   "metadata": {
    "tags": []
   },
   "outputs": [
    {
     "name": "stdout",
     "output_type": "stream",
     "text": [
      "Hoy tuvimos ocho mil 279 aplicaciones de vacuna en la parte del programa general. Recordar que el programa general de vacunación contra COVID-19 o contra el virus SARS-CoV-2, que produce COVID-19 tiene cinco etapas claramente definidas:\n"
     ]
    }
   ],
   "source": [
    "example_sentence = dialogs_train.iloc[80567]\n",
    "print(example_sentence)"
   ]
  },
  {
   "cell_type": "markdown",
   "id": "3b6695c5-63e9-42dc-935c-db03c4a87c63",
   "metadata": {},
   "source": [
    "# tokenizacion del example"
   ]
  },
  {
   "cell_type": "code",
   "execution_count": 28,
   "id": "bd1ee1e7-b6a7-42d3-a480-0e24adfb2928",
   "metadata": {
    "tags": []
   },
   "outputs": [],
   "source": [
    "from nltk.tokenize.toktok import ToktokTokenizer\n",
    "\n",
    "tk_tokenizer = ToktokTokenizer()"
   ]
  },
  {
   "cell_type": "code",
   "execution_count": 29,
   "id": "c750e99e-5c0e-4dd0-916c-131598fa0eda",
   "metadata": {
    "tags": []
   },
   "outputs": [
    {
     "name": "stdout",
     "output_type": "stream",
     "text": [
      "Hoy # tuvimos # ocho # mil # 279 # aplicaciones # de # vacuna # en # la # parte # del # programa # general. # Recordar # que # el # programa # general # de # vacunación # contra # COVID-19 # o # contra # el # virus # SARS-CoV-2 # , # que # produce # COVID-19 # tiene # cinco # etapas # claramente # definidas # :\n"
     ]
    }
   ],
   "source": [
    "tokens = tk_tokenizer.tokenize(example_sentence)\n",
    "print(\" # \".join(tokens))"
   ]
  },
  {
   "cell_type": "markdown",
   "id": "4325be09-4265-4ec0-a12a-382850f0d33f",
   "metadata": {},
   "source": [
    "## crear funcion que  permita limpiar la sentence  de elementos de uso comun que no definan la calsificacion de la etiqueta como signos de puntuacion stopswords del spanish, tildes y tokenizarla"
   ]
  },
  {
   "cell_type": "code",
   "execution_count": 30,
   "id": "50e7d836-07b2-4b80-ba79-2c54c4a84669",
   "metadata": {
    "tags": []
   },
   "outputs": [],
   "source": [
    "sp_stopwords = stopwords.words(\"spanish\")\n",
    "sp_punctuation = string.punctuation + '¿¡'\n",
    "\n",
    "not_wanted = set((unidecode(word) for word in sp_stopwords)) | set(sp_punctuation)\n",
    "\n",
    "tk_tokenizer = ToktokTokenizer()\n",
    "\n",
    "\n",
    "def tokenize(sentence):\n",
    "    clean = []\n",
    "    clean_sentence = unidecode(sentence)\n",
    "    for token_ in tk_tokenizer.tokenize(clean_sentence):\n",
    "        token = token_.lower()\n",
    "        if token in not_wanted:\n",
    "            continue\n",
    "        clean.append(token)\n",
    "    return clean"
   ]
  },
  {
   "cell_type": "code",
   "execution_count": 31,
   "id": "15610feb-36bd-47fe-9723-400994ac365d",
   "metadata": {
    "tags": []
   },
   "outputs": [
    {
     "name": "stdout",
     "output_type": "stream",
     "text": [
      "Hoy tuvimos ocho mil 279 aplicaciones de vacuna en la parte del programa general. Recordar que el programa general de vacunación contra COVID-19 o contra el virus SARS-CoV-2, que produce COVID-19 tiene cinco etapas claramente definidas:\n",
      "\n",
      "hoy # ocho # mil # 279 # aplicaciones # vacuna # parte # programa # general. # recordar # programa # general # vacunacion # covid-19 # virus # sars-cov-2 # produce # covid-19 # cinco # etapas # claramente # definidas\n"
     ]
    }
   ],
   "source": [
    "tokens = tokenize(example_sentence)\n",
    "print(example_sentence)\n",
    "print()\n",
    "tokens = tokenize(example_sentence)\n",
    "print(\" # \".join(tokens))"
   ]
  },
  {
   "cell_type": "markdown",
   "id": "5253c271-93f1-43fe-b8fe-57ec100c316c",
   "metadata": {
    "tags": []
   },
   "source": [
    "## vectorizacion"
   ]
  },
  {
   "cell_type": "code",
   "execution_count": 33,
   "id": "90d04887-88b9-4dc1-a31d-86689f3ef4db",
   "metadata": {
    "tags": []
   },
   "outputs": [],
   "source": [
    "from sklearn.feature_extraction.text import CountVectorizer\n",
    "\n",
    "vectorizador_ejemplo = CountVectorizer(binary=True, analyzer=tokenize, max_features=4000)"
   ]
  },
  {
   "cell_type": "code",
   "execution_count": 34,
   "id": "dd4a0642-c162-4be8-bbaa-3af50851eea5",
   "metadata": {
    "tags": []
   },
   "outputs": [
    {
     "data": {
      "text/html": [
       "<div>\n",
       "<style scoped>\n",
       "    .dataframe tbody tr th:only-of-type {\n",
       "        vertical-align: middle;\n",
       "    }\n",
       "\n",
       "    .dataframe tbody tr th {\n",
       "        vertical-align: top;\n",
       "    }\n",
       "\n",
       "    .dataframe thead th {\n",
       "        text-align: right;\n",
       "    }\n",
       "</style>\n",
       "<table border=\"1\" class=\"dataframe\">\n",
       "  <thead>\n",
       "    <tr style=\"text-align: right;\">\n",
       "      <th></th>\n",
       "      <th>inundaciones</th>\n",
       "      <th>mexico</th>\n",
       "      <th>paisanos</th>\n",
       "      <th>setpiembre</th>\n",
       "      <th>viva</th>\n",
       "      <th>voz</th>\n",
       "    </tr>\n",
       "  </thead>\n",
       "  <tbody>\n",
       "    <tr>\n",
       "      <th>1</th>\n",
       "      <td>0</td>\n",
       "      <td>1</td>\n",
       "      <td>1</td>\n",
       "      <td>1</td>\n",
       "      <td>1</td>\n",
       "      <td>0</td>\n",
       "    </tr>\n",
       "    <tr>\n",
       "      <th>2</th>\n",
       "      <td>1</td>\n",
       "      <td>1</td>\n",
       "      <td>0</td>\n",
       "      <td>0</td>\n",
       "      <td>1</td>\n",
       "      <td>1</td>\n",
       "    </tr>\n",
       "  </tbody>\n",
       "</table>\n",
       "</div>"
      ],
      "text/plain": [
       "   inundaciones  mexico  paisanos  setpiembre  viva  voz\n",
       "1             0       1         1           1     1    0\n",
       "2             1       1         0           0     1    1"
      ]
     },
     "execution_count": 34,
     "metadata": {},
     "output_type": "execute_result"
    }
   ],
   "source": [
    "ejemplos = [\n",
    "    \"viva mexico paisanos en setpiembre\",\n",
    "    \"en mexico hay inundaciones de viva voz\"\n",
    "]\n",
    "vectors = vectorizador_ejemplo.fit_transform(ejemplos)\n",
    "\n",
    "vocabulary = vectorizador_ejemplo.vocabulary_\n",
    "columns = [token for token, _ in sorted(vocabulary.items(), key=lambda item: item[1])]\n",
    "pd.DataFrame(vectors.todense(), columns=columns, index=[1, 2])"
   ]
  },
  {
   "cell_type": "code",
   "execution_count": 35,
   "id": "11b8523f-2dbc-48c1-af5a-40c3d8475747",
   "metadata": {
    "tags": []
   },
   "outputs": [],
   "source": [
    "vectorizador_real = CountVectorizer(binary=True, analyzer=tokenize, max_features=1000)"
   ]
  },
  {
   "cell_type": "markdown",
   "id": "cd70412f-5b86-4049-ae14-1e0fd9a43306",
   "metadata": {
    "tags": []
   },
   "source": [
    "## entrenar modelo "
   ]
  },
  {
   "cell_type": "code",
   "execution_count": 37,
   "id": "2e8c9ce4-6fa0-4973-8052-f6a25475338a",
   "metadata": {
    "tags": []
   },
   "outputs": [],
   "source": [
    "vectorizador_real.fit(dialogs_train)\n",
    "\n",
    "train_x = vectorizador_real.transform(dialogs_train)\n",
    "val_x = vectorizador_real.transform(dialogs_val)\n",
    "test_x = vectorizador_real.transform(dialogs_test)"
   ]
  },
  {
   "cell_type": "markdown",
   "id": "f309d09c-1c3c-462d-b5e4-9d9ad3f813f3",
   "metadata": {},
   "source": [
    "# modelo de regresion logistica"
   ]
  },
  {
   "cell_type": "code",
   "execution_count": 38,
   "id": "31b19d06-1bfe-454c-9c69-dd7ffd087d50",
   "metadata": {
    "tags": []
   },
   "outputs": [],
   "source": [
    "from sklearn.linear_model import LogisticRegression"
   ]
  },
  {
   "cell_type": "code",
   "execution_count": 39,
   "id": "09a4c745-7c79-4937-99f9-2d017dd9f547",
   "metadata": {
    "tags": []
   },
   "outputs": [],
   "source": [
    "lr = LogisticRegression(max_iter=1000, class_weight=\"balanced\")"
   ]
  },
  {
   "cell_type": "code",
   "execution_count": 40,
   "id": "67690a79-af69-4ce1-b7ec-fdde48392f5e",
   "metadata": {
    "tags": []
   },
   "outputs": [
    {
     "data": {
      "text/html": [
       "<style>#sk-container-id-1 {color: black;background-color: white;}#sk-container-id-1 pre{padding: 0;}#sk-container-id-1 div.sk-toggleable {background-color: white;}#sk-container-id-1 label.sk-toggleable__label {cursor: pointer;display: block;width: 100%;margin-bottom: 0;padding: 0.3em;box-sizing: border-box;text-align: center;}#sk-container-id-1 label.sk-toggleable__label-arrow:before {content: \"▸\";float: left;margin-right: 0.25em;color: #696969;}#sk-container-id-1 label.sk-toggleable__label-arrow:hover:before {color: black;}#sk-container-id-1 div.sk-estimator:hover label.sk-toggleable__label-arrow:before {color: black;}#sk-container-id-1 div.sk-toggleable__content {max-height: 0;max-width: 0;overflow: hidden;text-align: left;background-color: #f0f8ff;}#sk-container-id-1 div.sk-toggleable__content pre {margin: 0.2em;color: black;border-radius: 0.25em;background-color: #f0f8ff;}#sk-container-id-1 input.sk-toggleable__control:checked~div.sk-toggleable__content {max-height: 200px;max-width: 100%;overflow: auto;}#sk-container-id-1 input.sk-toggleable__control:checked~label.sk-toggleable__label-arrow:before {content: \"▾\";}#sk-container-id-1 div.sk-estimator input.sk-toggleable__control:checked~label.sk-toggleable__label {background-color: #d4ebff;}#sk-container-id-1 div.sk-label input.sk-toggleable__control:checked~label.sk-toggleable__label {background-color: #d4ebff;}#sk-container-id-1 input.sk-hidden--visually {border: 0;clip: rect(1px 1px 1px 1px);clip: rect(1px, 1px, 1px, 1px);height: 1px;margin: -1px;overflow: hidden;padding: 0;position: absolute;width: 1px;}#sk-container-id-1 div.sk-estimator {font-family: monospace;background-color: #f0f8ff;border: 1px dotted black;border-radius: 0.25em;box-sizing: border-box;margin-bottom: 0.5em;}#sk-container-id-1 div.sk-estimator:hover {background-color: #d4ebff;}#sk-container-id-1 div.sk-parallel-item::after {content: \"\";width: 100%;border-bottom: 1px solid gray;flex-grow: 1;}#sk-container-id-1 div.sk-label:hover label.sk-toggleable__label {background-color: #d4ebff;}#sk-container-id-1 div.sk-serial::before {content: \"\";position: absolute;border-left: 1px solid gray;box-sizing: border-box;top: 0;bottom: 0;left: 50%;z-index: 0;}#sk-container-id-1 div.sk-serial {display: flex;flex-direction: column;align-items: center;background-color: white;padding-right: 0.2em;padding-left: 0.2em;position: relative;}#sk-container-id-1 div.sk-item {position: relative;z-index: 1;}#sk-container-id-1 div.sk-parallel {display: flex;align-items: stretch;justify-content: center;background-color: white;position: relative;}#sk-container-id-1 div.sk-item::before, #sk-container-id-1 div.sk-parallel-item::before {content: \"\";position: absolute;border-left: 1px solid gray;box-sizing: border-box;top: 0;bottom: 0;left: 50%;z-index: -1;}#sk-container-id-1 div.sk-parallel-item {display: flex;flex-direction: column;z-index: 1;position: relative;background-color: white;}#sk-container-id-1 div.sk-parallel-item:first-child::after {align-self: flex-end;width: 50%;}#sk-container-id-1 div.sk-parallel-item:last-child::after {align-self: flex-start;width: 50%;}#sk-container-id-1 div.sk-parallel-item:only-child::after {width: 0;}#sk-container-id-1 div.sk-dashed-wrapped {border: 1px dashed gray;margin: 0 0.4em 0.5em 0.4em;box-sizing: border-box;padding-bottom: 0.4em;background-color: white;}#sk-container-id-1 div.sk-label label {font-family: monospace;font-weight: bold;display: inline-block;line-height: 1.2em;}#sk-container-id-1 div.sk-label-container {text-align: center;}#sk-container-id-1 div.sk-container {/* jupyter's `normalize.less` sets `[hidden] { display: none; }` but bootstrap.min.css set `[hidden] { display: none !important; }` so we also need the `!important` here to be able to override the default hidden behavior on the sphinx rendered scikit-learn.org. See: https://github.com/scikit-learn/scikit-learn/issues/21755 */display: inline-block !important;position: relative;}#sk-container-id-1 div.sk-text-repr-fallback {display: none;}</style><div id=\"sk-container-id-1\" class=\"sk-top-container\"><div class=\"sk-text-repr-fallback\"><pre>LogisticRegression(class_weight=&#x27;balanced&#x27;, max_iter=1000)</pre><b>In a Jupyter environment, please rerun this cell to show the HTML representation or trust the notebook. <br />On GitHub, the HTML representation is unable to render, please try loading this page with nbviewer.org.</b></div><div class=\"sk-container\" hidden><div class=\"sk-item\"><div class=\"sk-estimator sk-toggleable\"><input class=\"sk-toggleable__control sk-hidden--visually\" id=\"sk-estimator-id-1\" type=\"checkbox\" checked><label for=\"sk-estimator-id-1\" class=\"sk-toggleable__label sk-toggleable__label-arrow\">LogisticRegression</label><div class=\"sk-toggleable__content\"><pre>LogisticRegression(class_weight=&#x27;balanced&#x27;, max_iter=1000)</pre></div></div></div></div></div>"
      ],
      "text/plain": [
       "LogisticRegression(class_weight='balanced', max_iter=1000)"
      ]
     },
     "execution_count": 40,
     "metadata": {},
     "output_type": "execute_result"
    }
   ],
   "source": [
    "lr.fit(train_x, train_y)"
   ]
  },
  {
   "cell_type": "code",
   "execution_count": 42,
   "id": "48d21b4d-2b99-4b9c-b07c-3c1975346f24",
   "metadata": {
    "tags": []
   },
   "outputs": [
    {
     "data": {
      "text/plain": [
       "array([1, 1, 1, ..., 1, 1, 0])"
      ]
     },
     "execution_count": 42,
     "metadata": {},
     "output_type": "execute_result"
    }
   ],
   "source": [
    "train_pred = lr.predict(train_x)  # Para diagnosticar overfitting\n",
    "train_pred"
   ]
  },
  {
   "cell_type": "code",
   "execution_count": 43,
   "id": "0c83fb91-098b-4de1-8a72-020af784554f",
   "metadata": {
    "tags": []
   },
   "outputs": [
    {
     "data": {
      "text/plain": [
       "array([1, 1, 1, ..., 1, 1, 1])"
      ]
     },
     "execution_count": 43,
     "metadata": {},
     "output_type": "execute_result"
    }
   ],
   "source": [
    "val_pred = lr.predict(val_x)  # Para decidir cambios sobre el modelo\n",
    "val_pred"
   ]
  },
  {
   "cell_type": "markdown",
   "id": "0b5cf69a-799d-4112-8230-3b9af3e92c21",
   "metadata": {
    "tags": []
   },
   "source": [
    "## revisar metrica accuracy"
   ]
  },
  {
   "cell_type": "code",
   "execution_count": 45,
   "id": "0126fe58-ee8f-444a-af26-05db2b0caa94",
   "metadata": {
    "tags": []
   },
   "outputs": [],
   "source": [
    "from sklearn.metrics import accuracy_score"
   ]
  },
  {
   "cell_type": "code",
   "execution_count": 46,
   "id": "e60eaee8-636d-4259-8b40-135255fce4ed",
   "metadata": {
    "tags": []
   },
   "outputs": [
    {
     "name": "stdout",
     "output_type": "stream",
     "text": [
      "Training accuracy:   92.99%\n",
      "Validation accuracy: 92.69%\n"
     ]
    }
   ],
   "source": [
    "training_accuracy = accuracy_score(train_y, train_pred)\n",
    "validation_accuracy = accuracy_score(val_y, val_pred)\n",
    "\n",
    "print(f\"Training accuracy:   {training_accuracy:0.2%}\")\n",
    "print(f\"Validation accuracy: {validation_accuracy:0.2%}\")"
   ]
  },
  {
   "cell_type": "markdown",
   "id": "7ea9e253-00df-475a-8105-c273a762db72",
   "metadata": {},
   "source": [
    "## evaluacion de oracion propia "
   ]
  },
  {
   "cell_type": "code",
   "execution_count": 47,
   "id": "45cc8583-a21d-406e-8e95-38487965aecd",
   "metadata": {
    "tags": []
   },
   "outputs": [
    {
     "name": "stdout",
     "output_type": "stream",
     "text": [
      "98.88% – Médico\n",
      "01.12 - Político\n"
     ]
    }
   ],
   "source": [
    "oración = \"Quedate en casa, la curva epidémica no se ha reducido\"\n",
    "own_x = vectorizador_real.transform([oración])\n",
    "result = lr.predict(own_x)\n",
    "medico, politico = lr.predict_proba(own_x).squeeze() * 100\n",
    "print(f\"{medico:05.2f}% – Médico\\n{politico:05.2f} - Político\")"
   ]
  },
  {
   "cell_type": "code",
   "execution_count": null,
   "id": "c22e0243-ab91-48e8-b771-ffd83f26be27",
   "metadata": {},
   "outputs": [],
   "source": []
  }
 ],
 "metadata": {
  "kernelspec": {
   "display_name": "Python 3 (ipykernel)",
   "language": "python",
   "name": "python3"
  },
  "language_info": {
   "codemirror_mode": {
    "name": "ipython",
    "version": 3
   },
   "file_extension": ".py",
   "mimetype": "text/x-python",
   "name": "python",
   "nbconvert_exporter": "python",
   "pygments_lexer": "ipython3",
   "version": "3.11.0"
  }
 },
 "nbformat": 4,
 "nbformat_minor": 5
}
